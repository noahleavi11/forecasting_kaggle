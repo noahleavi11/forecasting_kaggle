{
 "cells": [
  {
   "cell_type": "code",
   "execution_count": 8,
   "metadata": {},
   "outputs": [],
   "source": [
    "import pandas as pd\n",
    "import numpy as np\n",
    "import seaborn as sns\n",
    "from sklearn.model_selection import train_test_split\n",
    "from sklearn.preprocessing import MinMaxScaler\n",
    "import matplotlib.pyplot as plt\n",
    "import holidays \n",
    "from datetime import datetime, date\n",
    "from sklearn.preprocessing import OneHotEncoder\n",
    "%matplotlib inline"
   ]
  },
  {
   "cell_type": "code",
   "execution_count": 2,
   "metadata": {},
   "outputs": [],
   "source": [
    "forecast = pd.read_csv('train.csv')"
   ]
  },
  {
   "cell_type": "code",
   "execution_count": null,
   "metadata": {},
   "outputs": [],
   "source": [
    "train = pd.read_csv('../input/train.csv')\n",
    "test = pd.read_csv('../input/test.csv')"
   ]
  },
  {
   "cell_type": "code",
   "execution_count": 27,
   "metadata": {},
   "outputs": [
    {
     "data": {
      "text/html": [
       "<div>\n",
       "<style scoped>\n",
       "    .dataframe tbody tr th:only-of-type {\n",
       "        vertical-align: middle;\n",
       "    }\n",
       "\n",
       "    .dataframe tbody tr th {\n",
       "        vertical-align: top;\n",
       "    }\n",
       "\n",
       "    .dataframe thead th {\n",
       "        text-align: right;\n",
       "    }\n",
       "</style>\n",
       "<table border=\"1\" class=\"dataframe\">\n",
       "  <thead>\n",
       "    <tr style=\"text-align: right;\">\n",
       "      <th></th>\n",
       "      <th>date</th>\n",
       "      <th>store</th>\n",
       "      <th>item</th>\n",
       "      <th>sales</th>\n",
       "    </tr>\n",
       "  </thead>\n",
       "  <tbody>\n",
       "    <tr>\n",
       "      <th>0</th>\n",
       "      <td>2013-01-01</td>\n",
       "      <td>1</td>\n",
       "      <td>1</td>\n",
       "      <td>13</td>\n",
       "    </tr>\n",
       "    <tr>\n",
       "      <th>1</th>\n",
       "      <td>2013-01-02</td>\n",
       "      <td>1</td>\n",
       "      <td>1</td>\n",
       "      <td>11</td>\n",
       "    </tr>\n",
       "    <tr>\n",
       "      <th>2</th>\n",
       "      <td>2013-01-03</td>\n",
       "      <td>1</td>\n",
       "      <td>1</td>\n",
       "      <td>14</td>\n",
       "    </tr>\n",
       "    <tr>\n",
       "      <th>3</th>\n",
       "      <td>2013-01-04</td>\n",
       "      <td>1</td>\n",
       "      <td>1</td>\n",
       "      <td>13</td>\n",
       "    </tr>\n",
       "    <tr>\n",
       "      <th>4</th>\n",
       "      <td>2013-01-05</td>\n",
       "      <td>1</td>\n",
       "      <td>1</td>\n",
       "      <td>10</td>\n",
       "    </tr>\n",
       "  </tbody>\n",
       "</table>\n",
       "</div>"
      ],
      "text/plain": [
       "         date  store  item  sales\n",
       "0  2013-01-01      1     1     13\n",
       "1  2013-01-02      1     1     11\n",
       "2  2013-01-03      1     1     14\n",
       "3  2013-01-04      1     1     13\n",
       "4  2013-01-05      1     1     10"
      ]
     },
     "execution_count": 27,
     "metadata": {},
     "output_type": "execute_result"
    }
   ],
   "source": [
    "forecast.head()"
   ]
  },
  {
   "cell_type": "code",
   "execution_count": 13,
   "metadata": {},
   "outputs": [
    {
     "data": {
      "text/html": [
       "<div>\n",
       "<style scoped>\n",
       "    .dataframe tbody tr th:only-of-type {\n",
       "        vertical-align: middle;\n",
       "    }\n",
       "\n",
       "    .dataframe tbody tr th {\n",
       "        vertical-align: top;\n",
       "    }\n",
       "\n",
       "    .dataframe thead th {\n",
       "        text-align: right;\n",
       "    }\n",
       "</style>\n",
       "<table border=\"1\" class=\"dataframe\">\n",
       "  <thead>\n",
       "    <tr style=\"text-align: right;\">\n",
       "      <th></th>\n",
       "      <th>store</th>\n",
       "      <th>item</th>\n",
       "      <th>sales</th>\n",
       "    </tr>\n",
       "  </thead>\n",
       "  <tbody>\n",
       "    <tr>\n",
       "      <th>count</th>\n",
       "      <td>913000.000000</td>\n",
       "      <td>913000.000000</td>\n",
       "      <td>913000.000000</td>\n",
       "    </tr>\n",
       "    <tr>\n",
       "      <th>mean</th>\n",
       "      <td>5.500000</td>\n",
       "      <td>25.500000</td>\n",
       "      <td>52.250287</td>\n",
       "    </tr>\n",
       "    <tr>\n",
       "      <th>std</th>\n",
       "      <td>2.872283</td>\n",
       "      <td>14.430878</td>\n",
       "      <td>28.801144</td>\n",
       "    </tr>\n",
       "    <tr>\n",
       "      <th>min</th>\n",
       "      <td>1.000000</td>\n",
       "      <td>1.000000</td>\n",
       "      <td>0.000000</td>\n",
       "    </tr>\n",
       "    <tr>\n",
       "      <th>25%</th>\n",
       "      <td>3.000000</td>\n",
       "      <td>13.000000</td>\n",
       "      <td>30.000000</td>\n",
       "    </tr>\n",
       "    <tr>\n",
       "      <th>50%</th>\n",
       "      <td>5.500000</td>\n",
       "      <td>25.500000</td>\n",
       "      <td>47.000000</td>\n",
       "    </tr>\n",
       "    <tr>\n",
       "      <th>75%</th>\n",
       "      <td>8.000000</td>\n",
       "      <td>38.000000</td>\n",
       "      <td>70.000000</td>\n",
       "    </tr>\n",
       "    <tr>\n",
       "      <th>max</th>\n",
       "      <td>10.000000</td>\n",
       "      <td>50.000000</td>\n",
       "      <td>231.000000</td>\n",
       "    </tr>\n",
       "  </tbody>\n",
       "</table>\n",
       "</div>"
      ],
      "text/plain": [
       "               store           item          sales\n",
       "count  913000.000000  913000.000000  913000.000000\n",
       "mean        5.500000      25.500000      52.250287\n",
       "std         2.872283      14.430878      28.801144\n",
       "min         1.000000       1.000000       0.000000\n",
       "25%         3.000000      13.000000      30.000000\n",
       "50%         5.500000      25.500000      47.000000\n",
       "75%         8.000000      38.000000      70.000000\n",
       "max        10.000000      50.000000     231.000000"
      ]
     },
     "execution_count": 13,
     "metadata": {},
     "output_type": "execute_result"
    }
   ],
   "source": [
    "forecast.describe()"
   ]
  },
  {
   "cell_type": "code",
   "execution_count": 14,
   "metadata": {},
   "outputs": [
    {
     "name": "stdout",
     "output_type": "stream",
     "text": [
      "<class 'pandas.core.frame.DataFrame'>\n",
      "RangeIndex: 913000 entries, 0 to 912999\n",
      "Data columns (total 4 columns):\n",
      " #   Column  Non-Null Count   Dtype \n",
      "---  ------  --------------   ----- \n",
      " 0   date    913000 non-null  object\n",
      " 1   store   913000 non-null  int64 \n",
      " 2   item    913000 non-null  int64 \n",
      " 3   sales   913000 non-null  int64 \n",
      "dtypes: int64(3), object(1)\n",
      "memory usage: 27.9+ MB\n"
     ]
    }
   ],
   "source": [
    "forecast.info()"
   ]
  },
  {
   "cell_type": "code",
   "execution_count": 3,
   "metadata": {},
   "outputs": [],
   "source": [
    "#forecast[\"date\"] = pd.to_datetime(forecast.date)"
   ]
  },
  {
   "cell_type": "code",
   "execution_count": 29,
   "metadata": {},
   "outputs": [
    {
     "data": {
      "text/html": [
       "<div>\n",
       "<style scoped>\n",
       "    .dataframe tbody tr th:only-of-type {\n",
       "        vertical-align: middle;\n",
       "    }\n",
       "\n",
       "    .dataframe tbody tr th {\n",
       "        vertical-align: top;\n",
       "    }\n",
       "\n",
       "    .dataframe thead th {\n",
       "        text-align: right;\n",
       "    }\n",
       "</style>\n",
       "<table border=\"1\" class=\"dataframe\">\n",
       "  <thead>\n",
       "    <tr style=\"text-align: right;\">\n",
       "      <th></th>\n",
       "      <th>date</th>\n",
       "      <th>store</th>\n",
       "      <th>item</th>\n",
       "      <th>sales</th>\n",
       "    </tr>\n",
       "  </thead>\n",
       "  <tbody>\n",
       "    <tr>\n",
       "      <th>0</th>\n",
       "      <td>2013-01-01</td>\n",
       "      <td>1</td>\n",
       "      <td>1</td>\n",
       "      <td>13</td>\n",
       "    </tr>\n",
       "    <tr>\n",
       "      <th>1</th>\n",
       "      <td>2013-01-02</td>\n",
       "      <td>1</td>\n",
       "      <td>1</td>\n",
       "      <td>11</td>\n",
       "    </tr>\n",
       "    <tr>\n",
       "      <th>2</th>\n",
       "      <td>2013-01-03</td>\n",
       "      <td>1</td>\n",
       "      <td>1</td>\n",
       "      <td>14</td>\n",
       "    </tr>\n",
       "    <tr>\n",
       "      <th>3</th>\n",
       "      <td>2013-01-04</td>\n",
       "      <td>1</td>\n",
       "      <td>1</td>\n",
       "      <td>13</td>\n",
       "    </tr>\n",
       "    <tr>\n",
       "      <th>4</th>\n",
       "      <td>2013-01-05</td>\n",
       "      <td>1</td>\n",
       "      <td>1</td>\n",
       "      <td>10</td>\n",
       "    </tr>\n",
       "  </tbody>\n",
       "</table>\n",
       "</div>"
      ],
      "text/plain": [
       "        date  store  item  sales\n",
       "0 2013-01-01      1     1     13\n",
       "1 2013-01-02      1     1     11\n",
       "2 2013-01-03      1     1     14\n",
       "3 2013-01-04      1     1     13\n",
       "4 2013-01-05      1     1     10"
      ]
     },
     "execution_count": 29,
     "metadata": {},
     "output_type": "execute_result"
    }
   ],
   "source": [
    "forecast.head()"
   ]
  },
  {
   "cell_type": "code",
   "execution_count": 6,
   "metadata": {},
   "outputs": [
    {
     "name": "stdout",
     "output_type": "stream",
     "text": [
      "<class 'pandas.core.frame.DataFrame'>\n",
      "RangeIndex: 913000 entries, 0 to 912999\n",
      "Data columns (total 5 columns):\n",
      " #   Column     Non-Null Count   Dtype         \n",
      "---  ------     --------------   -----         \n",
      " 0   date       913000 non-null  datetime64[ns]\n",
      " 1   store      913000 non-null  int64         \n",
      " 2   item       913000 non-null  int64         \n",
      " 3   sales      913000 non-null  int64         \n",
      " 4   dayofweek  913000 non-null  float64       \n",
      "dtypes: datetime64[ns](1), float64(1), int64(3)\n",
      "memory usage: 34.8 MB\n"
     ]
    }
   ],
   "source": [
    "forecast.info()"
   ]
  },
  {
   "cell_type": "markdown",
   "metadata": {},
   "source": [
    "## Neural Net"
   ]
  },
  {
   "cell_type": "code",
   "execution_count": 18,
   "metadata": {},
   "outputs": [],
   "source": [
    "def createmodeldataframeold(mydf):\n",
    "    mydf[\"date\"] = pd.to_datetime(mydf.date)\n",
    "    mydf['dayofweek'] = mydf['date'].apply(lambda x:x.weekday())\n",
    "    mydf['month'] = mydf['date'].apply(lambda x: x.month)\n",
    "    mydf['dayinmonth'] = mydf['date'].apply(lambda x: x.day)\n",
    "    mydf['dayinyear'] = mydf['date'].apply(lambda x: x.timetuple().tm_yday)\n",
    "    mydf['year'] = mydf['date'].apply(lambda x: x.year)\n",
    "    usholidays = holidays.US()\n",
    "    mydf['US_holiday'] = mydf['date'].apply(lambda x: x in usholidays).astype(int)\n",
    "    ohe = OneHotEncoder()\n",
    "    df3 = pd.DataFrame(ohe.fit_transform(mydf[[\"store\",\"item\"]]).toarray())\n",
    "    lastforecast=pd.concat([mydf,df3],axis=1)\n",
    "    cleanforecast = lastforecast.drop(['date','store','item'], axis=1)\n",
    "    return cleanforecast"
   ]
  },
  {
   "cell_type": "code",
   "execution_count": 3,
   "metadata": {},
   "outputs": [],
   "source": [
    "def createmodeldataframe(mydf):\n",
    "    mydf[\"date\"] = pd.to_datetime(mydf.date)\n",
    "    mydf['dayofweek'] = mydf['date'].apply(lambda x:np.cos((2*np.pi*(x.weekday())/7)-.4))\n",
    "    mydf['month'] = mydf['date'].apply(lambda x: np.cos((2*np.pi*x.month/12)-.1))\n",
    "    mydf['dayinmonth'] = mydf['date'].apply(lambda x: np.cos((2*np.pi*x.day/30)-.1))\n",
    "    mydf['dayinyear'] = mydf['date'].apply(lambda x: np.cos((2*np.pi*x.timetuple().tm_yday/365)-.01))\n",
    "    mydf['year'] = mydf['date'].apply(lambda x: x.year)\n",
    "    usholidays = holidays.US()\n",
    "    mydf['US_holiday'] = mydf['date'].apply(lambda x: x in usholidays).astype(int)\n",
    "    ohe = OneHotEncoder()\n",
    "    df3 = pd.DataFrame(ohe.fit_transform(mydf[[\"store\",\"item\"]]).toarray())\n",
    "    lastforecast=pd.concat([mydf,df3],axis=1)\n",
    "    cleanforecast = lastforecast.drop(['date','store','item'], axis=1)\n",
    "    return cleanforecast"
   ]
  },
  {
   "cell_type": "code",
   "execution_count": 5,
   "metadata": {},
   "outputs": [],
   "source": [
    "# add day of week\n",
    "#forecast['dayofweek'] = forecast['date'].apply(lambda x:x.weekday())\n",
    "#forecast['dayofweek'] = forecast['date'].apply(lambda x:np.cos((2*np.pi*(x.weekday())/7)-.4))"
   ]
  },
  {
   "cell_type": "code",
   "execution_count": 7,
   "metadata": {},
   "outputs": [],
   "source": [
    "#add month\n",
    "#forecast['month'] = forecast['date'].apply(lambda x: x.month)\n",
    "#forecast['month'] = forecast['date'].apply(lambda x: np.cos((2*np.pi*x.month/12)-.1))"
   ]
  },
  {
   "cell_type": "code",
   "execution_count": 86,
   "metadata": {},
   "outputs": [
    {
     "data": {
      "text/plain": [
       "<matplotlib.axes._subplots.AxesSubplot at 0x1ee246111c0>"
      ]
     },
     "execution_count": 86,
     "metadata": {},
     "output_type": "execute_result"
    },
    {
     "data": {
      "image/png": "[encoded data removed]",
      "text/plain": [
       "<Figure size 432x288 with 1 Axes>"
      ]
     },
     "metadata": {
      "needs_background": "light"
     },
     "output_type": "display_data"
    }
   ],
   "source": []
  },
  {
   "cell_type": "code",
   "execution_count": 8,
   "metadata": {},
   "outputs": [],
   "source": [
    "# add day of month\n",
    "#forecast['dayinmonth'] = forecast['date'].apply(lambda x: x.day)\n",
    "#forecast['dayinmonth'] = forecast['date'].apply(lambda x: np.cos((2*np.pi*x.day/30)-.1))"
   ]
  },
  {
   "cell_type": "code",
   "execution_count": 9,
   "metadata": {},
   "outputs": [],
   "source": [
    "# add day in the year\n",
    "#forecast['dayinyear'] = forecast['date'].apply(lambda x: x.timetuple().tm_yday)\n",
    "#forecast['dayinyear'] = forecast['date'].apply(lambda x: np.cos((2*np.pi*x.timetuple().tm_yday/365)-.01))"
   ]
  },
  {
   "cell_type": "code",
   "execution_count": 10,
   "metadata": {},
   "outputs": [],
   "source": [
    "#add year\n",
    "#forecast['year'] = forecast['date'].apply(lambda x: x.year)"
   ]
  },
  {
   "cell_type": "code",
   "execution_count": 11,
   "metadata": {},
   "outputs": [],
   "source": [
    "#holiday or not\n",
    "#usholidays = holidays.US()\n",
    "#forecast['US_holiday'] = forecast['date'].apply(lambda x: x in usholidays).astype(int)"
   ]
  },
  {
   "cell_type": "code",
   "execution_count": 12,
   "metadata": {},
   "outputs": [],
   "source": [
    "#from sklearn.preprocessing import OneHotEncoder\n",
    "#ohe = OneHotEncoder()\n",
    "#df3 = pd.DataFrame(ohe.fit_transform(forecast[[\"store\",\"item\"]]).toarray())\n",
    "#lastforecast=pd.concat([forecast,df3],axis=1)\n"
   ]
  },
  {
   "cell_type": "code",
   "execution_count": 13,
   "metadata": {},
   "outputs": [],
   "source": [
    "#cleanforecast = lastforecast.drop(['date','store','item'], axis=1)"
   ]
  },
  {
   "cell_type": "code",
   "execution_count": 6,
   "metadata": {},
   "outputs": [],
   "source": [
    "cleanforecast = createmodeldataframe(train)"
   ]
  },
  {
   "cell_type": "code",
   "execution_count": 13,
   "metadata": {},
   "outputs": [],
   "source": [
    "from sklearn.model_selection import train_test_split\n",
    "from sklearn.preprocessing import MinMaxScaler"
   ]
  },
  {
   "cell_type": "code",
   "execution_count": 14,
   "metadata": {},
   "outputs": [],
   "source": [
    "from tensorflow.keras.models import Sequential\n",
    "from tensorflow.keras.layers import Dense, Activation, Dropout\n",
    "from tensorflow.keras.optimizers import Adam"
   ]
  },
  {
   "cell_type": "code",
   "execution_count": 17,
   "metadata": {},
   "outputs": [],
   "source": [
    "#other way to split to predict last month\n",
    "#month_prediction = 31\n",
    "#train_forecast = cleanforecast[:-month_prediction]\n",
    "#test_forecast = cleanforecast[-month_prediction:]\n",
    "#X_forecasttrain = train_forecast.drop('sales', axis=1)\n",
    "#y_forecasttrain = train_forecast['sales']\n",
    "#X_forecasttest = test_forecast.drop('sales', axis=1)\n",
    "#y_forecasttest = test_forecast['sales']\n",
    "\n",
    "\n",
    "#scaler = MinMaxScaler()\n",
    "#X_forecasttrain = scaler.fit_transform(X_forecasttrain)\n",
    "#X_forecasttest = scaler.fit_transform(X_forecasttest)"
   ]
  },
  {
   "cell_type": "code",
   "execution_count": null,
   "metadata": {},
   "outputs": [],
   "source": [
    "X_train = cleanforecast.drop('sales', axis=1)\n",
    "y_train = cleanforecast['sales']"
   ]
  },
  {
   "cell_type": "code",
   "execution_count": 56,
   "metadata": {},
   "outputs": [
    {
     "ename": "ValueError",
     "evalue": "test_size=0 should be either positive and smaller than the number of samples 913000 or a float in the (0, 1) range",
     "output_type": "error",
     "traceback": [
      "\u001b[1;31m---------------------------------------------------------------------------\u001b[0m",
      "\u001b[1;31mValueError\u001b[0m                                Traceback (most recent call last)",
      "\u001b[1;32m<ipython-input-56-23b4331c282e>\u001b[0m in \u001b[0;36m<module>\u001b[1;34m\u001b[0m\n\u001b[0;32m      1\u001b[0m \u001b[1;31m#Split the data into training and testing sets.\u001b[0m\u001b[1;33m\u001b[0m\u001b[1;33m\u001b[0m\u001b[1;33m\u001b[0m\u001b[0m\n\u001b[1;32m----> 2\u001b[1;33m X_train, X_test, y_train, y_test = train_test_split(cleanforecast.drop('sales', axis=1), \n\u001b[0m\u001b[0;32m      3\u001b[0m                                                     cleanforecast.sales, test_size = 0,random_state = 101)\n\u001b[0;32m      4\u001b[0m \u001b[1;33m\u001b[0m\u001b[0m\n\u001b[0;32m      5\u001b[0m \u001b[1;33m\u001b[0m\u001b[0m\n",
      "\u001b[1;32m~\\anaconda3\\lib\\site-packages\\sklearn\\model_selection\\_split.py\u001b[0m in \u001b[0;36mtrain_test_split\u001b[1;34m(*arrays, **options)\u001b[0m\n\u001b[0;32m   2128\u001b[0m \u001b[1;33m\u001b[0m\u001b[0m\n\u001b[0;32m   2129\u001b[0m     \u001b[0mn_samples\u001b[0m \u001b[1;33m=\u001b[0m \u001b[0m_num_samples\u001b[0m\u001b[1;33m(\u001b[0m\u001b[0marrays\u001b[0m\u001b[1;33m[\u001b[0m\u001b[1;36m0\u001b[0m\u001b[1;33m]\u001b[0m\u001b[1;33m)\u001b[0m\u001b[1;33m\u001b[0m\u001b[1;33m\u001b[0m\u001b[0m\n\u001b[1;32m-> 2130\u001b[1;33m     n_train, n_test = _validate_shuffle_split(n_samples, test_size, train_size,\n\u001b[0m\u001b[0;32m   2131\u001b[0m                                               default_test_size=0.25)\n\u001b[0;32m   2132\u001b[0m \u001b[1;33m\u001b[0m\u001b[0m\n",
      "\u001b[1;32m~\\anaconda3\\lib\\site-packages\\sklearn\\model_selection\\_split.py\u001b[0m in \u001b[0;36m_validate_shuffle_split\u001b[1;34m(n_samples, test_size, train_size, default_test_size)\u001b[0m\n\u001b[0;32m   1762\u001b[0m     if (test_size_type == 'i' and (test_size >= n_samples or test_size <= 0)\n\u001b[0;32m   1763\u001b[0m        or test_size_type == 'f' and (test_size <= 0 or test_size >= 1)):\n\u001b[1;32m-> 1764\u001b[1;33m         raise ValueError('test_size={0} should be either positive and smaller'\n\u001b[0m\u001b[0;32m   1765\u001b[0m                          \u001b[1;34m' than the number of samples {1} or a float in the '\u001b[0m\u001b[1;33m\u001b[0m\u001b[1;33m\u001b[0m\u001b[0m\n\u001b[0;32m   1766\u001b[0m                          '(0, 1) range'.format(test_size, n_samples))\n",
      "\u001b[1;31mValueError\u001b[0m: test_size=0 should be either positive and smaller than the number of samples 913000 or a float in the (0, 1) range"
     ]
    }
   ],
   "source": [
    "#Split the data into training and testing sets.\n",
    "#X_train, X_test, y_train, y_test = train_test_split(cleanforecast.drop('sales', axis=1), \n",
    "                                                    cleanforecast.sales, test_size = 1,random_state = 101)\n",
    "\n",
    "\n",
    "#Scaling the data because the data varies a lot(check X.describe())\n",
    "scaler = MinMaxScaler()\n",
    "X_train = scaler.fit_transform(X_train)\n",
    "#X_test = scaler.fit_transform(X_test)"
   ]
  },
  {
   "cell_type": "code",
   "execution_count": 12,
   "metadata": {},
   "outputs": [],
   "source": [
    "from tensorflow.keras.callbacks import EarlyStopping\n",
    "early_stop = EarlyStopping(monitor='val_loss', mode='min', verbose=1, patience=50)"
   ]
  },
  {
   "cell_type": "code",
   "execution_count": 24,
   "metadata": {},
   "outputs": [],
   "source": [
    "model = Sequential()\n",
    "\n",
    "model.add(Dense(66,activation='relu'))\n",
    "model.add(Dense(40,activation='relu'))\n",
    "model.add(Dropout(.3))\n",
    "model.add(Dense(30,activation='relu'))\n",
    "model.add(Dropout(.2))\n",
    "model.add(Dense(20,activation='relu'))\n",
    "model.add(Dense(15,activation='relu'))\n",
    "model.add(Dense(15,activation='relu'))\n",
    "model.add(Dense(1))\n",
    "\n",
    "model.compile(optimizer='adam',loss='mse')"
   ]
  },
  {
   "cell_type": "code",
   "execution_count": 25,
   "metadata": {},
   "outputs": [
    {
     "name": "stdout",
     "output_type": "stream",
     "text": [
      "Epoch 1/100\n",
      "2854/2854 [==============================] - 6s 2ms/step - loss: 261.0683 - val_loss: 276.7237\n",
      "Epoch 2/100\n",
      "2854/2854 [==============================] - 6s 2ms/step - loss: 116.0446 - val_loss: 251.6211\n",
      "Epoch 3/100\n",
      "2854/2854 [==============================] - 6s 2ms/step - loss: 107.7067 - val_loss: 204.5998\n",
      "Epoch 4/100\n",
      "2854/2854 [==============================] - 6s 2ms/step - loss: 102.8450 - val_loss: 209.5211\n",
      "Epoch 5/100\n",
      "2854/2854 [==============================] - 6s 2ms/step - loss: 96.7668 - val_loss: 209.5118\n",
      "Epoch 6/100\n",
      "2854/2854 [==============================] - 6s 2ms/step - loss: 91.0143 - val_loss: 189.4289\n",
      "Epoch 7/100\n",
      "2854/2854 [==============================] - 6s 2ms/step - loss: 87.6196 - val_loss: 172.6758\n",
      "Epoch 8/100\n",
      "2854/2854 [==============================] - 6s 2ms/step - loss: 85.5829 - val_loss: 195.8082\n",
      "Epoch 9/100\n",
      "2854/2854 [==============================] - 6s 2ms/step - loss: 84.0019 - val_loss: 173.1419\n",
      "Epoch 10/100\n",
      "2854/2854 [==============================] - 6s 2ms/step - loss: 82.7224 - val_loss: 177.7721\n",
      "Epoch 11/100\n",
      "2854/2854 [==============================] - 6s 2ms/step - loss: 81.2782 - val_loss: 163.5797\n",
      "Epoch 12/100\n",
      "2854/2854 [==============================] - 6s 2ms/step - loss: 79.3921 - val_loss: 195.8311\n",
      "Epoch 13/100\n",
      "2854/2854 [==============================] - 6s 2ms/step - loss: 77.6666 - val_loss: 178.3907\n",
      "Epoch 14/100\n",
      "2854/2854 [==============================] - 6s 2ms/step - loss: 76.6730 - val_loss: 172.6942\n",
      "Epoch 15/100\n",
      "2854/2854 [==============================] - 6s 2ms/step - loss: 76.0542 - val_loss: 186.0078\n",
      "Epoch 16/100\n",
      "2854/2854 [==============================] - 6s 2ms/step - loss: 75.5021 - val_loss: 181.9552\n",
      "Epoch 17/100\n",
      "2854/2854 [==============================] - 6s 2ms/step - loss: 74.9998 - val_loss: 192.4005\n",
      "Epoch 18/100\n",
      "2854/2854 [==============================] - 6s 2ms/step - loss: 74.8432 - val_loss: 190.2417\n",
      "Epoch 19/100\n",
      "2854/2854 [==============================] - 6s 2ms/step - loss: 74.1712 - val_loss: 183.4366\n",
      "Epoch 20/100\n",
      "2854/2854 [==============================] - 6s 2ms/step - loss: 74.0211 - val_loss: 189.0214\n",
      "Epoch 21/100\n",
      "2854/2854 [==============================] - 6s 2ms/step - loss: 73.7096 - val_loss: 179.3606\n",
      "Epoch 22/100\n",
      "2854/2854 [==============================] - 5s 2ms/step - loss: 73.3049 - val_loss: 173.4430\n",
      "Epoch 23/100\n",
      "2854/2854 [==============================] - 6s 2ms/step - loss: 73.1967 - val_loss: 197.4872\n",
      "Epoch 24/100\n",
      "2854/2854 [==============================] - 6s 2ms/step - loss: 73.0785 - val_loss: 185.8366\n",
      "Epoch 25/100\n",
      "2854/2854 [==============================] - 6s 2ms/step - loss: 72.6042 - val_loss: 200.1173\n",
      "Epoch 26/100\n",
      "2854/2854 [==============================] - 6s 2ms/step - loss: 72.2839 - val_loss: 191.0805\n",
      "Epoch 27/100\n",
      "2854/2854 [==============================] - 6s 2ms/step - loss: 72.0271 - val_loss: 193.1578\n",
      "Epoch 28/100\n",
      "2854/2854 [==============================] - 6s 2ms/step - loss: 72.0806 - val_loss: 223.6568\n",
      "Epoch 29/100\n",
      "2854/2854 [==============================] - 6s 2ms/step - loss: 71.7067 - val_loss: 215.4819\n",
      "Epoch 30/100\n",
      "2854/2854 [==============================] - 6s 2ms/step - loss: 71.4682 - val_loss: 179.3526\n",
      "Epoch 31/100\n",
      "2854/2854 [==============================] - 6s 2ms/step - loss: 71.2939 - val_loss: 179.8019\n",
      "Epoch 32/100\n",
      "2854/2854 [==============================] - 5s 2ms/step - loss: 70.9557 - val_loss: 198.5806\n",
      "Epoch 33/100\n",
      "2854/2854 [==============================] - 6s 2ms/step - loss: 70.6834 - val_loss: 201.9881\n",
      "Epoch 34/100\n",
      "2854/2854 [==============================] - 6s 2ms/step - loss: 70.2678 - val_loss: 232.9682\n",
      "Epoch 35/100\n",
      "2854/2854 [==============================] - 6s 2ms/step - loss: 69.7804 - val_loss: 228.3871\n",
      "Epoch 36/100\n",
      "2854/2854 [==============================] - 6s 2ms/step - loss: 69.2082 - val_loss: 230.5858\n",
      "Epoch 37/100\n",
      "2854/2854 [==============================] - 6s 2ms/step - loss: 68.8410 - val_loss: 210.6162\n",
      "Epoch 38/100\n",
      "2854/2854 [==============================] - 6s 2ms/step - loss: 68.2331 - val_loss: 217.6609\n",
      "Epoch 39/100\n",
      "2854/2854 [==============================] - 6s 2ms/step - loss: 67.5142 - val_loss: 217.6464\n",
      "Epoch 40/100\n",
      "2854/2854 [==============================] - 6s 2ms/step - loss: 67.1119 - val_loss: 208.7131\n",
      "Epoch 41/100\n",
      "2854/2854 [==============================] - 6s 2ms/step - loss: 66.9328 - val_loss: 206.5379\n",
      "Epoch 42/100\n",
      "2854/2854 [==============================] - 6s 2ms/step - loss: 66.6136 - val_loss: 224.3861\n",
      "Epoch 43/100\n",
      "2854/2854 [==============================] - 6s 2ms/step - loss: 66.3949 - val_loss: 257.2725\n",
      "Epoch 44/100\n",
      "2854/2854 [==============================] - 6s 2ms/step - loss: 66.2007 - val_loss: 212.0210\n",
      "Epoch 45/100\n",
      "2854/2854 [==============================] - 6s 2ms/step - loss: 65.8311 - val_loss: 235.3268\n",
      "Epoch 46/100\n",
      "2854/2854 [==============================] - 6s 2ms/step - loss: 65.9183 - val_loss: 202.7593\n",
      "Epoch 47/100\n",
      "2854/2854 [==============================] - 6s 2ms/step - loss: 65.5451 - val_loss: 226.3799\n",
      "Epoch 48/100\n",
      "2854/2854 [==============================] - 6s 2ms/step - loss: 65.2844 - val_loss: 223.7442\n",
      "Epoch 49/100\n",
      "2854/2854 [==============================] - 6s 2ms/step - loss: 65.4479 - val_loss: 257.7970\n",
      "Epoch 50/100\n",
      "2854/2854 [==============================] - 6s 2ms/step - loss: 65.1585 - val_loss: 224.0372\n",
      "Epoch 51/100\n",
      "2854/2854 [==============================] - 6s 2ms/step - loss: 65.0172 - val_loss: 263.4356\n",
      "Epoch 52/100\n",
      "2854/2854 [==============================] - 6s 2ms/step - loss: 64.9426 - val_loss: 241.5231\n",
      "Epoch 53/100\n",
      "2854/2854 [==============================] - 6s 2ms/step - loss: 64.7369 - val_loss: 219.3315\n",
      "Epoch 54/100\n",
      "2854/2854 [==============================] - 6s 2ms/step - loss: 64.6085 - val_loss: 243.3162\n",
      "Epoch 55/100\n",
      "2854/2854 [==============================] - 6s 2ms/step - loss: 64.5841 - val_loss: 225.6165\n",
      "Epoch 56/100\n",
      "2854/2854 [==============================] - 6s 2ms/step - loss: 64.5739 - val_loss: 215.5011\n",
      "Epoch 57/100\n",
      "2854/2854 [==============================] - 6s 2ms/step - loss: 64.2645 - val_loss: 253.8412\n",
      "Epoch 58/100\n",
      "2854/2854 [==============================] - 6s 2ms/step - loss: 64.2484 - val_loss: 246.0040\n",
      "Epoch 59/100\n",
      "2854/2854 [==============================] - 6s 2ms/step - loss: 64.3156 - val_loss: 211.8360\n",
      "Epoch 60/100\n",
      "2854/2854 [==============================] - 6s 2ms/step - loss: 64.0616 - val_loss: 252.6715\n",
      "Epoch 61/100\n",
      "2854/2854 [==============================] - 6s 2ms/step - loss: 63.9416 - val_loss: 201.5367\n",
      "Epoch 00061: early stopping\n"
     ]
    },
    {
     "data": {
      "text/plain": [
       "<tensorflow.python.keras.callbacks.History at 0x18841685a90>"
      ]
     },
     "execution_count": 25,
     "metadata": {},
     "output_type": "execute_result"
    }
   ],
   "source": [
    "# add early stopping\n",
    "model.fit(x=X_train,y=y_train.values,\n",
    "          validation_data=(X_test,y_test.values),\n",
    "          batch_size=256,epochs=60)"
   ]
  },
  {
   "cell_type": "code",
   "execution_count": 47,
   "metadata": {},
   "outputs": [],
   "source": [
    "#preds = preds**1.07"
   ]
  },
  {
   "cell_type": "code",
   "execution_count": 48,
   "metadata": {},
   "outputs": [
    {
     "data": {
      "text/plain": [
       "[<matplotlib.lines.Line2D at 0x1884be0d970>]"
      ]
     },
     "execution_count": 48,
     "metadata": {},
     "output_type": "execute_result"
    },
    {
     "data": {
      "image/png": "[encoded data removed]",
      "text/plain": [
       "<Figure size 432x288 with 1 Axes>"
      ]
     },
     "metadata": {
      "needs_background": "light"
     },
     "output_type": "display_data"
    }
   ],
   "source": [
    "#preds = model.predict(X_test)\n",
    "plt.scatter(y_test,preds)\n",
    "plt.plot(y_test,y_test,'r')\n",
    "#maybe use transformation"
   ]
  },
  {
   "cell_type": "code",
   "execution_count": 22,
   "metadata": {},
   "outputs": [
    {
     "data": {
      "text/plain": [
       "(912899, 66)"
      ]
     },
     "execution_count": 22,
     "metadata": {},
     "output_type": "execute_result"
    }
   ],
   "source": [
    "X_train.shape"
   ]
  },
  {
   "cell_type": "code",
   "execution_count": 27,
   "metadata": {},
   "outputs": [
    {
     "name": "stdout",
     "output_type": "stream",
     "text": [
      "Epoch 1/200\n",
      "7133/7133 [==============================] - 9s 1ms/step - loss: 58.4691 - val_loss: 1105.9977\n",
      "Epoch 2/200\n",
      "7133/7133 [==============================] - 9s 1ms/step - loss: 58.3860 - val_loss: 1088.1471\n",
      "Epoch 3/200\n",
      "7133/7133 [==============================] - 9s 1ms/step - loss: 58.4157 - val_loss: 1155.6641\n",
      "Epoch 4/200\n",
      "7133/7133 [==============================] - 9s 1ms/step - loss: 58.4358 - val_loss: 1167.1068\n",
      "Epoch 5/200\n",
      "7133/7133 [==============================] - 9s 1ms/step - loss: 58.4302 - val_loss: 1175.6696\n",
      "Epoch 6/200\n",
      "7133/7133 [==============================] - 9s 1ms/step - loss: 58.4379 - val_loss: 1169.5997\n",
      "Epoch 7/200\n",
      "7133/7133 [==============================] - 9s 1ms/step - loss: 58.3895 - val_loss: 1169.3898\n",
      "Epoch 8/200\n",
      "7133/7133 [==============================] - 10s 1ms/step - loss: 58.3421 - val_loss: 1168.5221\n",
      "Epoch 9/200\n",
      "7133/7133 [==============================] - 9s 1ms/step - loss: 58.3139 - val_loss: 1200.4706\n",
      "Epoch 10/200\n",
      "7133/7133 [==============================] - 9s 1ms/step - loss: 58.3080 - val_loss: 1180.5758\n",
      "Epoch 11/200\n",
      "7133/7133 [==============================] - 9s 1ms/step - loss: 58.2699 - val_loss: 1140.6539\n",
      "Epoch 12/200\n",
      "7133/7133 [==============================] - 9s 1ms/step - loss: 58.2668 - val_loss: 1154.2356\n",
      "Epoch 13/200\n",
      "7133/7133 [==============================] - 9s 1ms/step - loss: 58.2529 - val_loss: 1168.9390\n",
      "Epoch 14/200\n",
      "7133/7133 [==============================] - 9s 1ms/step - loss: 58.2735 - val_loss: 1189.6989\n",
      "Epoch 15/200\n",
      "7133/7133 [==============================] - 9s 1ms/step - loss: 58.1866 - val_loss: 1163.0107\n",
      "Epoch 16/200\n",
      "7133/7133 [==============================] - 9s 1ms/step - loss: 58.2285 - val_loss: 1124.3821\n",
      "Epoch 17/200\n",
      "7133/7133 [==============================] - 9s 1ms/step - loss: 58.1912 - val_loss: 1130.0514\n",
      "Epoch 18/200\n",
      "7133/7133 [==============================] - 9s 1ms/step - loss: 58.1818 - val_loss: 1150.2109\n",
      "Epoch 19/200\n",
      "7133/7133 [==============================] - 9s 1ms/step - loss: 58.1908 - val_loss: 1168.4700\n",
      "Epoch 20/200\n",
      "7133/7133 [==============================] - 9s 1ms/step - loss: 58.2242 - val_loss: 1133.3409\n",
      "Epoch 21/200\n",
      "7133/7133 [==============================] - 9s 1ms/step - loss: 58.1435 - val_loss: 1133.5789\n",
      "Epoch 22/200\n",
      "7133/7133 [==============================] - 9s 1ms/step - loss: 58.1398 - val_loss: 1178.0129\n",
      "Epoch 23/200\n",
      "7133/7133 [==============================] - 9s 1ms/step - loss: 58.0592 - val_loss: 1157.7992\n",
      "Epoch 24/200\n",
      "7133/7133 [==============================] - 9s 1ms/step - loss: 58.0936 - val_loss: 1196.9974\n",
      "Epoch 25/200\n",
      "7133/7133 [==============================] - 9s 1ms/step - loss: 58.0326 - val_loss: 1187.7682\n",
      "Epoch 26/200\n",
      "7133/7133 [==============================] - 9s 1ms/step - loss: 58.0846 - val_loss: 1183.3425\n",
      "Epoch 27/200\n",
      "7133/7133 [==============================] - 9s 1ms/step - loss: 58.0267 - val_loss: 1202.1392\n",
      "Epoch 28/200\n",
      "7133/7133 [==============================] - 9s 1ms/step - loss: 58.0287 - val_loss: 1176.9652\n",
      "Epoch 29/200\n",
      "7133/7133 [==============================] - 9s 1ms/step - loss: 58.0066 - val_loss: 1204.0251\n",
      "Epoch 30/200\n",
      "7133/7133 [==============================] - 9s 1ms/step - loss: 58.0075 - val_loss: 1193.1620\n",
      "Epoch 31/200\n",
      "7133/7133 [==============================] - 9s 1ms/step - loss: 57.9078 - val_loss: 1201.2213\n",
      "Epoch 32/200\n",
      "7133/7133 [==============================] - 9s 1ms/step - loss: 57.9473 - val_loss: 1193.8336\n",
      "Epoch 33/200\n",
      "7133/7133 [==============================] - 9s 1ms/step - loss: 58.0065 - val_loss: 1223.8790\n",
      "Epoch 34/200\n",
      "7133/7133 [==============================] - 9s 1ms/step - loss: 57.9623 - val_loss: 1194.6123\n",
      "Epoch 35/200\n",
      "7133/7133 [==============================] - 9s 1ms/step - loss: 57.9891 - val_loss: 1256.6112\n",
      "Epoch 36/200\n",
      "7133/7133 [==============================] - 9s 1ms/step - loss: 57.9962 - val_loss: 1275.4115\n",
      "Epoch 37/200\n",
      "7133/7133 [==============================] - 9s 1ms/step - loss: 57.9591 - val_loss: 1246.2401\n",
      "Epoch 38/200\n",
      "7133/7133 [==============================] - 9s 1ms/step - loss: 57.9080 - val_loss: 1255.5100\n",
      "Epoch 39/200\n",
      "7133/7133 [==============================] - 9s 1ms/step - loss: 57.8931 - val_loss: 1217.2448\n",
      "Epoch 40/200\n",
      "7133/7133 [==============================] - 9s 1ms/step - loss: 57.9126 - val_loss: 1232.3392\n",
      "Epoch 41/200\n",
      "7133/7133 [==============================] - 9s 1ms/step - loss: 57.9301 - val_loss: 1198.4409\n",
      "Epoch 42/200\n",
      "7133/7133 [==============================] - 9s 1ms/step - loss: 57.8638 - val_loss: 1219.0060\n",
      "Epoch 43/200\n",
      "7133/7133 [==============================] - 9s 1ms/step - loss: 57.8567 - val_loss: 1202.3260\n",
      "Epoch 44/200\n",
      "7133/7133 [==============================] - 9s 1ms/step - loss: 57.8751 - val_loss: 1258.2407\n",
      "Epoch 45/200\n",
      "7133/7133 [==============================] - 9s 1ms/step - loss: 57.7818 - val_loss: 1249.2328\n",
      "Epoch 46/200\n",
      "7133/7133 [==============================] - 9s 1ms/step - loss: 57.8001 - val_loss: 1265.8729\n",
      "Epoch 47/200\n",
      "7133/7133 [==============================] - 9s 1ms/step - loss: 57.8625 - val_loss: 1280.9766\n",
      "Epoch 48/200\n",
      "7133/7133 [==============================] - 9s 1ms/step - loss: 57.8072 - val_loss: 1246.9479\n",
      "Epoch 49/200\n",
      "7133/7133 [==============================] - 9s 1ms/step - loss: 57.8628 - val_loss: 1225.8125\n",
      "Epoch 50/200\n",
      "7133/7133 [==============================] - 9s 1ms/step - loss: 57.7799 - val_loss: 1265.3298\n",
      "Epoch 51/200\n",
      "7133/7133 [==============================] - 9s 1ms/step - loss: 57.8124 - val_loss: 1289.8557\n",
      "Epoch 52/200\n",
      "7133/7133 [==============================] - 9s 1ms/step - loss: 57.7889 - val_loss: 1247.6129\n",
      "Epoch 53/200\n",
      "7133/7133 [==============================] - 9s 1ms/step - loss: 57.7783 - val_loss: 1304.6024\n",
      "Epoch 54/200\n",
      "7133/7133 [==============================] - 9s 1ms/step - loss: 57.7363 - val_loss: 1307.3352\n",
      "Epoch 55/200\n",
      "7133/7133 [==============================] - 9s 1ms/step - loss: 57.8105 - val_loss: 1244.6697\n",
      "Epoch 56/200\n",
      "7133/7133 [==============================] - 9s 1ms/step - loss: 57.7418 - val_loss: 1239.8690\n",
      "Epoch 57/200\n",
      "7133/7133 [==============================] - 9s 1ms/step - loss: 57.7583 - val_loss: 1260.6584\n",
      "Epoch 58/200\n",
      "7133/7133 [==============================] - 9s 1ms/step - loss: 57.6933 - val_loss: 1240.1987\n",
      "Epoch 59/200\n",
      "7133/7133 [==============================] - 9s 1ms/step - loss: 57.7441 - val_loss: 1206.9659\n",
      "Epoch 60/200\n",
      "7133/7133 [==============================] - 9s 1ms/step - loss: 57.6848 - val_loss: 1292.0355\n",
      "Epoch 61/200\n",
      "7133/7133 [==============================] - 9s 1ms/step - loss: 57.5910 - val_loss: 1308.4581\n",
      "Epoch 62/200\n",
      "7133/7133 [==============================] - 9s 1ms/step - loss: 57.7312 - val_loss: 1297.0441\n",
      "Epoch 63/200\n",
      "7133/7133 [==============================] - 9s 1ms/step - loss: 57.6808 - val_loss: 1329.2164\n",
      "Epoch 64/200\n",
      "7133/7133 [==============================] - 9s 1ms/step - loss: 57.5795 - val_loss: 1326.9087\n",
      "Epoch 65/200\n",
      "7133/7133 [==============================] - 9s 1ms/step - loss: 57.6802 - val_loss: 1277.2722\n",
      "Epoch 66/200\n",
      "7133/7133 [==============================] - 9s 1ms/step - loss: 57.6121 - val_loss: 1285.0980\n",
      "Epoch 67/200\n",
      "7133/7133 [==============================] - 9s 1ms/step - loss: 57.6491 - val_loss: 1334.7400\n",
      "Epoch 68/200\n",
      "7133/7133 [==============================] - 9s 1ms/step - loss: 57.6322 - val_loss: 1309.6683\n",
      "Epoch 69/200\n",
      "7133/7133 [==============================] - 10s 1ms/step - loss: 57.5575 - val_loss: 1334.4136\n",
      "Epoch 70/200\n",
      "7133/7133 [==============================] - 9s 1ms/step - loss: 57.5776 - val_loss: 1364.6069\n",
      "Epoch 71/200\n",
      "7133/7133 [==============================] - 9s 1ms/step - loss: 57.5625 - val_loss: 1361.4800\n",
      "Epoch 72/200\n",
      "7133/7133 [==============================] - 9s 1ms/step - loss: 57.5467 - val_loss: 1360.4152\n",
      "Epoch 73/200\n",
      "7133/7133 [==============================] - 10s 1ms/step - loss: 57.5372 - val_loss: 1372.7462\n",
      "Epoch 74/200\n",
      "7133/7133 [==============================] - 10s 1ms/step - loss: 57.5017 - val_loss: 1337.1451\n",
      "Epoch 75/200\n",
      "7133/7133 [==============================] - 9s 1ms/step - loss: 57.5587 - val_loss: 1397.1216\n",
      "Epoch 76/200\n",
      "7133/7133 [==============================] - 10s 1ms/step - loss: 57.5098 - val_loss: 1404.0822\n"
     ]
    },
    {
     "name": "stdout",
     "output_type": "stream",
     "text": [
      "Epoch 77/200\n",
      "7133/7133 [==============================] - 9s 1ms/step - loss: 57.5051 - val_loss: 1320.9357\n",
      "Epoch 78/200\n",
      "7133/7133 [==============================] - 9s 1ms/step - loss: 57.5344 - val_loss: 1382.4995\n",
      "Epoch 79/200\n",
      "7133/7133 [==============================] - 9s 1ms/step - loss: 57.4287 - val_loss: 1408.0471\n",
      "Epoch 80/200\n",
      "7133/7133 [==============================] - 9s 1ms/step - loss: 57.4588 - val_loss: 1361.0560\n",
      "Epoch 81/200\n",
      "7133/7133 [==============================] - 9s 1ms/step - loss: 57.4763 - val_loss: 1364.0703\n",
      "Epoch 82/200\n",
      "7133/7133 [==============================] - 9s 1ms/step - loss: 57.4246 - val_loss: 1367.6129\n",
      "Epoch 83/200\n",
      "7133/7133 [==============================] - 9s 1ms/step - loss: 57.4693 - val_loss: 1383.4684\n",
      "Epoch 84/200\n",
      "7133/7133 [==============================] - 9s 1ms/step - loss: 57.4487 - val_loss: 1347.6246\n",
      "Epoch 85/200\n",
      "7133/7133 [==============================] - 9s 1ms/step - loss: 57.3926 - val_loss: 1328.7158\n",
      "Epoch 86/200\n",
      "7133/7133 [==============================] - 9s 1ms/step - loss: 57.4848 - val_loss: 1325.0625\n",
      "Epoch 87/200\n",
      "7133/7133 [==============================] - 9s 1ms/step - loss: 57.3994 - val_loss: 1319.5172\n",
      "Epoch 88/200\n",
      "7133/7133 [==============================] - 9s 1ms/step - loss: 57.4143 - val_loss: 1348.8374\n",
      "Epoch 89/200\n",
      "7133/7133 [==============================] - 9s 1ms/step - loss: 57.4232 - val_loss: 1351.6359\n",
      "Epoch 90/200\n",
      "5672/7133 [======================>.......] - ETA: 1s - loss: 57.3042"
     ]
    },
    {
     "ename": "KeyboardInterrupt",
     "evalue": "",
     "output_type": "error",
     "traceback": [
      "\u001b[1;31m---------------------------------------------------------------------------\u001b[0m",
      "\u001b[1;31mKeyboardInterrupt\u001b[0m                         Traceback (most recent call last)",
      "\u001b[1;32m<ipython-input-27-8b53a78b7730>\u001b[0m in \u001b[0;36m<module>\u001b[1;34m\u001b[0m\n\u001b[0;32m      1\u001b[0m \u001b[1;31m#second type of model\u001b[0m\u001b[1;33m\u001b[0m\u001b[1;33m\u001b[0m\u001b[1;33m\u001b[0m\u001b[0m\n\u001b[1;32m----> 2\u001b[1;33m model.fit(x=X_forecasttrain,y=y_forecasttrain.values,\n\u001b[0m\u001b[0;32m      3\u001b[0m           \u001b[0mvalidation_data\u001b[0m\u001b[1;33m=\u001b[0m\u001b[1;33m(\u001b[0m\u001b[0mX_forecasttest\u001b[0m\u001b[1;33m,\u001b[0m\u001b[0my_forecasttest\u001b[0m\u001b[1;33m.\u001b[0m\u001b[0mvalues\u001b[0m\u001b[1;33m)\u001b[0m\u001b[1;33m,\u001b[0m\u001b[1;33m\u001b[0m\u001b[1;33m\u001b[0m\u001b[0m\n\u001b[0;32m      4\u001b[0m           batch_size=128,epochs=200)\n",
      "\u001b[1;32m~\\anaconda3\\lib\\site-packages\\tensorflow\\python\\keras\\engine\\training.py\u001b[0m in \u001b[0;36m_method_wrapper\u001b[1;34m(self, *args, **kwargs)\u001b[0m\n\u001b[0;32m    106\u001b[0m   \u001b[1;32mdef\u001b[0m \u001b[0m_method_wrapper\u001b[0m\u001b[1;33m(\u001b[0m\u001b[0mself\u001b[0m\u001b[1;33m,\u001b[0m \u001b[1;33m*\u001b[0m\u001b[0margs\u001b[0m\u001b[1;33m,\u001b[0m \u001b[1;33m**\u001b[0m\u001b[0mkwargs\u001b[0m\u001b[1;33m)\u001b[0m\u001b[1;33m:\u001b[0m\u001b[1;33m\u001b[0m\u001b[1;33m\u001b[0m\u001b[0m\n\u001b[0;32m    107\u001b[0m     \u001b[1;32mif\u001b[0m \u001b[1;32mnot\u001b[0m \u001b[0mself\u001b[0m\u001b[1;33m.\u001b[0m\u001b[0m_in_multi_worker_mode\u001b[0m\u001b[1;33m(\u001b[0m\u001b[1;33m)\u001b[0m\u001b[1;33m:\u001b[0m  \u001b[1;31m# pylint: disable=protected-access\u001b[0m\u001b[1;33m\u001b[0m\u001b[1;33m\u001b[0m\u001b[0m\n\u001b[1;32m--> 108\u001b[1;33m       \u001b[1;32mreturn\u001b[0m \u001b[0mmethod\u001b[0m\u001b[1;33m(\u001b[0m\u001b[0mself\u001b[0m\u001b[1;33m,\u001b[0m \u001b[1;33m*\u001b[0m\u001b[0margs\u001b[0m\u001b[1;33m,\u001b[0m \u001b[1;33m**\u001b[0m\u001b[0mkwargs\u001b[0m\u001b[1;33m)\u001b[0m\u001b[1;33m\u001b[0m\u001b[1;33m\u001b[0m\u001b[0m\n\u001b[0m\u001b[0;32m    109\u001b[0m \u001b[1;33m\u001b[0m\u001b[0m\n\u001b[0;32m    110\u001b[0m     \u001b[1;31m# Running inside `run_distribute_coordinator` already.\u001b[0m\u001b[1;33m\u001b[0m\u001b[1;33m\u001b[0m\u001b[1;33m\u001b[0m\u001b[0m\n",
      "\u001b[1;32m~\\anaconda3\\lib\\site-packages\\tensorflow\\python\\keras\\engine\\training.py\u001b[0m in \u001b[0;36mfit\u001b[1;34m(self, x, y, batch_size, epochs, verbose, callbacks, validation_split, validation_data, shuffle, class_weight, sample_weight, initial_epoch, steps_per_epoch, validation_steps, validation_batch_size, validation_freq, max_queue_size, workers, use_multiprocessing)\u001b[0m\n\u001b[0;32m   1096\u001b[0m                 batch_size=batch_size):\n\u001b[0;32m   1097\u001b[0m               \u001b[0mcallbacks\u001b[0m\u001b[1;33m.\u001b[0m\u001b[0mon_train_batch_begin\u001b[0m\u001b[1;33m(\u001b[0m\u001b[0mstep\u001b[0m\u001b[1;33m)\u001b[0m\u001b[1;33m\u001b[0m\u001b[1;33m\u001b[0m\u001b[0m\n\u001b[1;32m-> 1098\u001b[1;33m               \u001b[0mtmp_logs\u001b[0m \u001b[1;33m=\u001b[0m \u001b[0mtrain_function\u001b[0m\u001b[1;33m(\u001b[0m\u001b[0miterator\u001b[0m\u001b[1;33m)\u001b[0m\u001b[1;33m\u001b[0m\u001b[1;33m\u001b[0m\u001b[0m\n\u001b[0m\u001b[0;32m   1099\u001b[0m               \u001b[1;32mif\u001b[0m \u001b[0mdata_handler\u001b[0m\u001b[1;33m.\u001b[0m\u001b[0mshould_sync\u001b[0m\u001b[1;33m:\u001b[0m\u001b[1;33m\u001b[0m\u001b[1;33m\u001b[0m\u001b[0m\n\u001b[0;32m   1100\u001b[0m                 \u001b[0mcontext\u001b[0m\u001b[1;33m.\u001b[0m\u001b[0masync_wait\u001b[0m\u001b[1;33m(\u001b[0m\u001b[1;33m)\u001b[0m\u001b[1;33m\u001b[0m\u001b[1;33m\u001b[0m\u001b[0m\n",
      "\u001b[1;32m~\\anaconda3\\lib\\site-packages\\tensorflow\\python\\eager\\def_function.py\u001b[0m in \u001b[0;36m__call__\u001b[1;34m(self, *args, **kwds)\u001b[0m\n\u001b[0;32m    778\u001b[0m       \u001b[1;32melse\u001b[0m\u001b[1;33m:\u001b[0m\u001b[1;33m\u001b[0m\u001b[1;33m\u001b[0m\u001b[0m\n\u001b[0;32m    779\u001b[0m         \u001b[0mcompiler\u001b[0m \u001b[1;33m=\u001b[0m \u001b[1;34m\"nonXla\"\u001b[0m\u001b[1;33m\u001b[0m\u001b[1;33m\u001b[0m\u001b[0m\n\u001b[1;32m--> 780\u001b[1;33m         \u001b[0mresult\u001b[0m \u001b[1;33m=\u001b[0m \u001b[0mself\u001b[0m\u001b[1;33m.\u001b[0m\u001b[0m_call\u001b[0m\u001b[1;33m(\u001b[0m\u001b[1;33m*\u001b[0m\u001b[0margs\u001b[0m\u001b[1;33m,\u001b[0m \u001b[1;33m**\u001b[0m\u001b[0mkwds\u001b[0m\u001b[1;33m)\u001b[0m\u001b[1;33m\u001b[0m\u001b[1;33m\u001b[0m\u001b[0m\n\u001b[0m\u001b[0;32m    781\u001b[0m \u001b[1;33m\u001b[0m\u001b[0m\n\u001b[0;32m    782\u001b[0m       \u001b[0mnew_tracing_count\u001b[0m \u001b[1;33m=\u001b[0m \u001b[0mself\u001b[0m\u001b[1;33m.\u001b[0m\u001b[0m_get_tracing_count\u001b[0m\u001b[1;33m(\u001b[0m\u001b[1;33m)\u001b[0m\u001b[1;33m\u001b[0m\u001b[1;33m\u001b[0m\u001b[0m\n",
      "\u001b[1;32m~\\anaconda3\\lib\\site-packages\\tensorflow\\python\\eager\\def_function.py\u001b[0m in \u001b[0;36m_call\u001b[1;34m(self, *args, **kwds)\u001b[0m\n\u001b[0;32m    805\u001b[0m       \u001b[1;31m# In this case we have created variables on the first call, so we run the\u001b[0m\u001b[1;33m\u001b[0m\u001b[1;33m\u001b[0m\u001b[1;33m\u001b[0m\u001b[0m\n\u001b[0;32m    806\u001b[0m       \u001b[1;31m# defunned version which is guaranteed to never create variables.\u001b[0m\u001b[1;33m\u001b[0m\u001b[1;33m\u001b[0m\u001b[1;33m\u001b[0m\u001b[0m\n\u001b[1;32m--> 807\u001b[1;33m       \u001b[1;32mreturn\u001b[0m \u001b[0mself\u001b[0m\u001b[1;33m.\u001b[0m\u001b[0m_stateless_fn\u001b[0m\u001b[1;33m(\u001b[0m\u001b[1;33m*\u001b[0m\u001b[0margs\u001b[0m\u001b[1;33m,\u001b[0m \u001b[1;33m**\u001b[0m\u001b[0mkwds\u001b[0m\u001b[1;33m)\u001b[0m  \u001b[1;31m# pylint: disable=not-callable\u001b[0m\u001b[1;33m\u001b[0m\u001b[1;33m\u001b[0m\u001b[0m\n\u001b[0m\u001b[0;32m    808\u001b[0m     \u001b[1;32melif\u001b[0m \u001b[0mself\u001b[0m\u001b[1;33m.\u001b[0m\u001b[0m_stateful_fn\u001b[0m \u001b[1;32mis\u001b[0m \u001b[1;32mnot\u001b[0m \u001b[1;32mNone\u001b[0m\u001b[1;33m:\u001b[0m\u001b[1;33m\u001b[0m\u001b[1;33m\u001b[0m\u001b[0m\n\u001b[0;32m    809\u001b[0m       \u001b[1;31m# Release the lock early so that multiple threads can perform the call\u001b[0m\u001b[1;33m\u001b[0m\u001b[1;33m\u001b[0m\u001b[1;33m\u001b[0m\u001b[0m\n",
      "\u001b[1;32m~\\anaconda3\\lib\\site-packages\\tensorflow\\python\\eager\\function.py\u001b[0m in \u001b[0;36m__call__\u001b[1;34m(self, *args, **kwargs)\u001b[0m\n\u001b[0;32m   2827\u001b[0m     \u001b[1;32mwith\u001b[0m \u001b[0mself\u001b[0m\u001b[1;33m.\u001b[0m\u001b[0m_lock\u001b[0m\u001b[1;33m:\u001b[0m\u001b[1;33m\u001b[0m\u001b[1;33m\u001b[0m\u001b[0m\n\u001b[0;32m   2828\u001b[0m       \u001b[0mgraph_function\u001b[0m\u001b[1;33m,\u001b[0m \u001b[0margs\u001b[0m\u001b[1;33m,\u001b[0m \u001b[0mkwargs\u001b[0m \u001b[1;33m=\u001b[0m \u001b[0mself\u001b[0m\u001b[1;33m.\u001b[0m\u001b[0m_maybe_define_function\u001b[0m\u001b[1;33m(\u001b[0m\u001b[0margs\u001b[0m\u001b[1;33m,\u001b[0m \u001b[0mkwargs\u001b[0m\u001b[1;33m)\u001b[0m\u001b[1;33m\u001b[0m\u001b[1;33m\u001b[0m\u001b[0m\n\u001b[1;32m-> 2829\u001b[1;33m     \u001b[1;32mreturn\u001b[0m \u001b[0mgraph_function\u001b[0m\u001b[1;33m.\u001b[0m\u001b[0m_filtered_call\u001b[0m\u001b[1;33m(\u001b[0m\u001b[0margs\u001b[0m\u001b[1;33m,\u001b[0m \u001b[0mkwargs\u001b[0m\u001b[1;33m)\u001b[0m  \u001b[1;31m# pylint: disable=protected-access\u001b[0m\u001b[1;33m\u001b[0m\u001b[1;33m\u001b[0m\u001b[0m\n\u001b[0m\u001b[0;32m   2830\u001b[0m \u001b[1;33m\u001b[0m\u001b[0m\n\u001b[0;32m   2831\u001b[0m   \u001b[1;33m@\u001b[0m\u001b[0mproperty\u001b[0m\u001b[1;33m\u001b[0m\u001b[1;33m\u001b[0m\u001b[0m\n",
      "\u001b[1;32m~\\anaconda3\\lib\\site-packages\\tensorflow\\python\\eager\\function.py\u001b[0m in \u001b[0;36m_filtered_call\u001b[1;34m(self, args, kwargs, cancellation_manager)\u001b[0m\n\u001b[0;32m   1841\u001b[0m       \u001b[0;31m`\u001b[0m\u001b[0margs\u001b[0m\u001b[0;31m`\u001b[0m \u001b[1;32mand\u001b[0m\u001b[0;31m \u001b[0m\u001b[0;31m`\u001b[0m\u001b[0mkwargs\u001b[0m\u001b[0;31m`\u001b[0m\u001b[1;33m.\u001b[0m\u001b[1;33m\u001b[0m\u001b[1;33m\u001b[0m\u001b[0m\n\u001b[0;32m   1842\u001b[0m     \"\"\"\n\u001b[1;32m-> 1843\u001b[1;33m     return self._call_flat(\n\u001b[0m\u001b[0;32m   1844\u001b[0m         [t for t in nest.flatten((args, kwargs), expand_composites=True)\n\u001b[0;32m   1845\u001b[0m          if isinstance(t, (ops.Tensor,\n",
      "\u001b[1;32m~\\anaconda3\\lib\\site-packages\\tensorflow\\python\\eager\\function.py\u001b[0m in \u001b[0;36m_call_flat\u001b[1;34m(self, args, captured_inputs, cancellation_manager)\u001b[0m\n\u001b[0;32m   1921\u001b[0m         and executing_eagerly):\n\u001b[0;32m   1922\u001b[0m       \u001b[1;31m# No tape is watching; skip to running the function.\u001b[0m\u001b[1;33m\u001b[0m\u001b[1;33m\u001b[0m\u001b[1;33m\u001b[0m\u001b[0m\n\u001b[1;32m-> 1923\u001b[1;33m       return self._build_call_outputs(self._inference_function.call(\n\u001b[0m\u001b[0;32m   1924\u001b[0m           ctx, args, cancellation_manager=cancellation_manager))\n\u001b[0;32m   1925\u001b[0m     forward_backward = self._select_forward_and_backward_functions(\n",
      "\u001b[1;32m~\\anaconda3\\lib\\site-packages\\tensorflow\\python\\eager\\function.py\u001b[0m in \u001b[0;36mcall\u001b[1;34m(self, ctx, args, cancellation_manager)\u001b[0m\n\u001b[0;32m    543\u001b[0m       \u001b[1;32mwith\u001b[0m \u001b[0m_InterpolateFunctionError\u001b[0m\u001b[1;33m(\u001b[0m\u001b[0mself\u001b[0m\u001b[1;33m)\u001b[0m\u001b[1;33m:\u001b[0m\u001b[1;33m\u001b[0m\u001b[1;33m\u001b[0m\u001b[0m\n\u001b[0;32m    544\u001b[0m         \u001b[1;32mif\u001b[0m \u001b[0mcancellation_manager\u001b[0m \u001b[1;32mis\u001b[0m \u001b[1;32mNone\u001b[0m\u001b[1;33m:\u001b[0m\u001b[1;33m\u001b[0m\u001b[1;33m\u001b[0m\u001b[0m\n\u001b[1;32m--> 545\u001b[1;33m           outputs = execute.execute(\n\u001b[0m\u001b[0;32m    546\u001b[0m               \u001b[0mstr\u001b[0m\u001b[1;33m(\u001b[0m\u001b[0mself\u001b[0m\u001b[1;33m.\u001b[0m\u001b[0msignature\u001b[0m\u001b[1;33m.\u001b[0m\u001b[0mname\u001b[0m\u001b[1;33m)\u001b[0m\u001b[1;33m,\u001b[0m\u001b[1;33m\u001b[0m\u001b[1;33m\u001b[0m\u001b[0m\n\u001b[0;32m    547\u001b[0m               \u001b[0mnum_outputs\u001b[0m\u001b[1;33m=\u001b[0m\u001b[0mself\u001b[0m\u001b[1;33m.\u001b[0m\u001b[0m_num_outputs\u001b[0m\u001b[1;33m,\u001b[0m\u001b[1;33m\u001b[0m\u001b[1;33m\u001b[0m\u001b[0m\n",
      "\u001b[1;32m~\\anaconda3\\lib\\site-packages\\tensorflow\\python\\eager\\execute.py\u001b[0m in \u001b[0;36mquick_execute\u001b[1;34m(op_name, num_outputs, inputs, attrs, ctx, name)\u001b[0m\n\u001b[0;32m     57\u001b[0m   \u001b[1;32mtry\u001b[0m\u001b[1;33m:\u001b[0m\u001b[1;33m\u001b[0m\u001b[1;33m\u001b[0m\u001b[0m\n\u001b[0;32m     58\u001b[0m     \u001b[0mctx\u001b[0m\u001b[1;33m.\u001b[0m\u001b[0mensure_initialized\u001b[0m\u001b[1;33m(\u001b[0m\u001b[1;33m)\u001b[0m\u001b[1;33m\u001b[0m\u001b[1;33m\u001b[0m\u001b[0m\n\u001b[1;32m---> 59\u001b[1;33m     tensors = pywrap_tfe.TFE_Py_Execute(ctx._handle, device_name, op_name,\n\u001b[0m\u001b[0;32m     60\u001b[0m                                         inputs, attrs, num_outputs)\n\u001b[0;32m     61\u001b[0m   \u001b[1;32mexcept\u001b[0m \u001b[0mcore\u001b[0m\u001b[1;33m.\u001b[0m\u001b[0m_NotOkStatusException\u001b[0m \u001b[1;32mas\u001b[0m \u001b[0me\u001b[0m\u001b[1;33m:\u001b[0m\u001b[1;33m\u001b[0m\u001b[1;33m\u001b[0m\u001b[0m\n",
      "\u001b[1;31mKeyboardInterrupt\u001b[0m: "
     ]
    }
   ],
   "source": [
    "#second type of model\n",
    "#model.fit(x=X_forecasttrain,y=y_forecasttrain.values,\n",
    "#          validation_data=(X_forecasttest,y_forecasttest.values),\n",
    "#          batch_size=128,epochs=200)"
   ]
  },
  {
   "cell_type": "code",
   "execution_count": 36,
   "metadata": {},
   "outputs": [],
   "source": [
    "#losses = pd.DataFrame(model.history.history)"
   ]
  },
  {
   "cell_type": "code",
   "execution_count": 37,
   "metadata": {},
   "outputs": [
    {
     "data": {
      "text/plain": [
       "<matplotlib.axes._subplots.AxesSubplot at 0x1ee492dfdf0>"
      ]
     },
     "execution_count": 37,
     "metadata": {},
     "output_type": "execute_result"
    },
    {
     "data": {
      "image/png": "[encoded data removed]",
      "text/plain": [
       "<Figure size 432x288 with 1 Axes>"
      ]
     },
     "metadata": {
      "needs_background": "light"
     },
     "output_type": "display_data"
    }
   ],
   "source": [
    "#losses.plot()"
   ]
  },
  {
   "cell_type": "markdown",
   "metadata": {},
   "source": [
    "## Submission"
   ]
  },
  {
   "cell_type": "code",
   "execution_count": 54,
   "metadata": {},
   "outputs": [],
   "source": [
    "testdf = pd.read_csv(\"test.csv\")\n",
    "testdata = createmodeldataframe(testdf)\n",
    "testids = testdata.id\n",
    "testdata.drop('id',axis=1, inplace=True)\n",
    "testdata = scaler.fit_transform(testdata)\n",
    "testpreds = model.predict(testdata)\n",
    "testpreds = testpreds**1.07"
   ]
  },
  {
   "cell_type": "code",
   "execution_count": null,
   "metadata": {},
   "outputs": [],
   "source": [
    "# Create submission\n",
    "sub = pd.DataFrame({'id':testids,'sales':testpreds})\n",
    "sub.to_csv('submission.csv', index=False)\n",
    "sub.head()"
   ]
  }
 ],
 "metadata": {
  "kernelspec": {
   "display_name": "Python 3",
   "language": "python",
   "name": "python3"
  },
  "language_info": {
   "codemirror_mode": {
    "name": "ipython",
    "version": 3
   },
   "file_extension": ".py",
   "mimetype": "text/x-python",
   "name": "python",
   "nbconvert_exporter": "python",
   "pygments_lexer": "ipython3",
   "version": "3.8.3"
  }
 },
 "nbformat": 4,
 "nbformat_minor": 4
}
